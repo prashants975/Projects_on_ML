{
  "nbformat": 4,
  "nbformat_minor": 0,
  "metadata": {
    "colab": {
      "name": "Image classification - Fashion MNIST.ipynb",
      "version": "0.3.2",
      "provenance": [],
      "collapsed_sections": [],
      "include_colab_link": true
    },
    "kernelspec": {
      "name": "python3",
      "display_name": "Python 3"
    }
  },
  "cells": [
    {
      "cell_type": "markdown",
      "metadata": {
        "id": "view-in-github",
        "colab_type": "text"
      },
      "source": [
        "<a href=\"https://colab.research.google.com/github/prashants975/Projects_on_ML/blob/master/Image_classification_Fashion_MNIST.ipynb\" target=\"_parent\"><img src=\"https://colab.research.google.com/assets/colab-badge.svg\" alt=\"Open In Colab\"/></a>"
      ]
    },
    {
      "cell_type": "code",
      "metadata": {
        "id": "sA3m58oQ2It3",
        "colab_type": "code",
        "colab": {}
      },
      "source": [
        "import numpy as np\n",
        "import tensorflow as tf\n",
        "from tensorflow import keras\n",
        "import pandas as pd\n",
        "import matplotlib.pyplot as plt"
      ],
      "execution_count": 0,
      "outputs": []
    },
    {
      "cell_type": "code",
      "metadata": {
        "id": "ouU7vG8-2Vwz",
        "colab_type": "code",
        "colab": {}
      },
      "source": [
        "fashion_mnist = keras.datasets.fashion_mnist"
      ],
      "execution_count": 0,
      "outputs": []
    },
    {
      "cell_type": "code",
      "metadata": {
        "id": "LlAuB7Lv2k4m",
        "colab_type": "code",
        "outputId": "1b59884e-b93c-4731-9082-0d5fc06f159f",
        "colab": {
          "base_uri": "https://localhost:8080/",
          "height": 34
        }
      },
      "source": [
        "type(fashion_mnist)"
      ],
      "execution_count": 4,
      "outputs": [
        {
          "output_type": "execute_result",
          "data": {
            "text/plain": [
              "tensorflow.python.util.deprecation_wrapper.DeprecationWrapper"
            ]
          },
          "metadata": {
            "tags": []
          },
          "execution_count": 4
        }
      ]
    },
    {
      "cell_type": "code",
      "metadata": {
        "id": "xQENIZbK2m56",
        "colab_type": "code",
        "outputId": "13000b74-f9b1-462b-c801-c18f9a51c120",
        "colab": {
          "base_uri": "https://localhost:8080/",
          "height": 153
        }
      },
      "source": [
        "(train_images, train_labels), (test_images, test_labels) = fashion_mnist.load_data()"
      ],
      "execution_count": 5,
      "outputs": [
        {
          "output_type": "stream",
          "text": [
            "Downloading data from https://storage.googleapis.com/tensorflow/tf-keras-datasets/train-labels-idx1-ubyte.gz\n",
            "32768/29515 [=================================] - 0s 0us/step\n",
            "Downloading data from https://storage.googleapis.com/tensorflow/tf-keras-datasets/train-images-idx3-ubyte.gz\n",
            "26427392/26421880 [==============================] - 0s 0us/step\n",
            "Downloading data from https://storage.googleapis.com/tensorflow/tf-keras-datasets/t10k-labels-idx1-ubyte.gz\n",
            "8192/5148 [===============================================] - 0s 0us/step\n",
            "Downloading data from https://storage.googleapis.com/tensorflow/tf-keras-datasets/t10k-images-idx3-ubyte.gz\n",
            "4423680/4422102 [==============================] - 0s 0us/step\n"
          ],
          "name": "stdout"
        }
      ]
    },
    {
      "cell_type": "code",
      "metadata": {
        "id": "f6D62Nzv2qlZ",
        "colab_type": "code",
        "colab": {
          "base_uri": "https://localhost:8080/",
          "height": 34
        },
        "outputId": "877be619-add5-42c0-f8b5-5cbc7e83ecd5"
      },
      "source": [
        "print(train_images.shape, train_labels.shape)"
      ],
      "execution_count": 6,
      "outputs": [
        {
          "output_type": "stream",
          "text": [
            "(60000, 28, 28) (60000,)\n"
          ],
          "name": "stdout"
        }
      ]
    },
    {
      "cell_type": "markdown",
      "metadata": {
        "id": "Cn5np6OcgADr",
        "colab_type": "text"
      },
      "source": [
        "Shape of the images are (28,28) and there are 60000 training examples."
      ]
    },
    {
      "cell_type": "code",
      "metadata": {
        "id": "9Ock78cJmh1D",
        "colab_type": "code",
        "colab": {
          "base_uri": "https://localhost:8080/",
          "height": 286
        },
        "outputId": "af1d12a6-85c9-4894-a698-4343ffb55765"
      },
      "source": [
        "plt.imshow(train_images[1]) #image at index 1 our train set"
      ],
      "execution_count": 7,
      "outputs": [
        {
          "output_type": "execute_result",
          "data": {
            "text/plain": [
              "<matplotlib.image.AxesImage at 0x7ff35452a160>"
            ]
          },
          "metadata": {
            "tags": []
          },
          "execution_count": 7
        },
        {
          "output_type": "display_data",
          "data": {
            "image/png": "[encoded data removed]",
            "text/plain": [
              "<Figure size 432x288 with 1 Axes>"
            ]
          },
          "metadata": {
            "tags": []
          }
        }
      ]
    },
    {
      "cell_type": "code",
      "metadata": {
        "id": "J3pUmpn8edlx",
        "colab_type": "code",
        "colab": {
          "base_uri": "https://localhost:8080/",
          "height": 204
        },
        "outputId": "f2616443-4ab8-4f3b-ac51-925d949bcfce"
      },
      "source": [
        "df = pd.DataFrame(train_labels)\n",
        "df[0].value_counts()"
      ],
      "execution_count": 8,
      "outputs": [
        {
          "output_type": "execute_result",
          "data": {
            "text/plain": [
              "9    6000\n",
              "8    6000\n",
              "7    6000\n",
              "6    6000\n",
              "5    6000\n",
              "4    6000\n",
              "3    6000\n",
              "2    6000\n",
              "1    6000\n",
              "0    6000\n",
              "Name: 0, dtype: int64"
            ]
          },
          "metadata": {
            "tags": []
          },
          "execution_count": 8
        }
      ]
    },
    {
      "cell_type": "markdown",
      "metadata": {
        "id": "GZqFnIG0f1hA",
        "colab_type": "text"
      },
      "source": [
        "10 different labels are present and the data is distributed proportionally so no need to stratify it.\n",
        "## Normalizing the image vectors"
      ]
    },
    {
      "cell_type": "code",
      "metadata": {
        "id": "c3FXc3NXqPIp",
        "colab_type": "code",
        "colab": {}
      },
      "source": [
        "train_images  = train_images / 255.0\n",
        "test_images = test_images / 255.0"
      ],
      "execution_count": 0,
      "outputs": []
    },
    {
      "cell_type": "code",
      "metadata": {
        "id": "rY3lSgjycXZ2",
        "colab_type": "code",
        "colab": {
          "base_uri": "https://localhost:8080/",
          "height": 105
        },
        "outputId": "f073ff68-67e9-4b39-cd3f-34c0fa7978c3"
      },
      "source": [
        "model = keras.Sequential([\n",
        "    keras.layers.Flatten(input_shape = (28,28)),#input layer\n",
        "    keras.layers.Dense(128, activation= tf.nn.relu),\n",
        "    keras.layers.Dense(10, activation=tf.nn.softmax)#output 10 option for labels\n",
        "])"
      ],
      "execution_count": 10,
      "outputs": [
        {
          "output_type": "stream",
          "text": [
            "WARNING: Logging before flag parsing goes to stderr.\n",
            "W0629 19:20:18.165995 140684014380928 deprecation.py:506] From /usr/local/lib/python3.6/dist-packages/tensorflow/python/ops/init_ops.py:1251: calling VarianceScaling.__init__ (from tensorflow.python.ops.init_ops) with dtype is deprecated and will be removed in a future version.\n",
            "Instructions for updating:\n",
            "Call initializer instance with the dtype argument instead of passing it to the constructor\n"
          ],
          "name": "stderr"
        }
      ]
    },
    {
      "cell_type": "code",
      "metadata": {
        "id": "rnXW2qRYleqw",
        "colab_type": "code",
        "colab": {
          "base_uri": "https://localhost:8080/",
          "height": 1000
        },
        "outputId": "3765b021-b1f3-4fea-a191-dc504f009c5b"
      },
      "source": [
        "model.compile(optimizer = tf.train.AdamOptimizer(),\n",
        "              loss = 'sparse_categorical_crossentropy',\n",
        "              metrics=['accuracy'])\n",
        "\n",
        "model.fit(train_images, train_labels, epochs=50)"
      ],
      "execution_count": 13,
      "outputs": [
        {
          "output_type": "stream",
          "text": [
            "Epoch 1/50\n",
            "60000/60000 [==============================] - 4s 67us/sample - loss: 0.2569 - acc: 0.9042\n",
            "Epoch 2/50\n",
            "60000/60000 [==============================] - 4s 65us/sample - loss: 0.2473 - acc: 0.9081\n",
            "Epoch 3/50\n",
            "60000/60000 [==============================] - 4s 67us/sample - loss: 0.2373 - acc: 0.9112\n",
            "Epoch 4/50\n",
            "60000/60000 [==============================] - 4s 66us/sample - loss: 0.2289 - acc: 0.9135\n",
            "Epoch 5/50\n",
            "60000/60000 [==============================] - 4s 66us/sample - loss: 0.2230 - acc: 0.9161\n",
            "Epoch 6/50\n",
            "60000/60000 [==============================] - 4s 66us/sample - loss: 0.2132 - acc: 0.9200\n",
            "Epoch 7/50\n",
            "60000/60000 [==============================] - 4s 67us/sample - loss: 0.2102 - acc: 0.9206\n",
            "Epoch 8/50\n",
            "60000/60000 [==============================] - 4s 66us/sample - loss: 0.2030 - acc: 0.9236\n",
            "Epoch 9/50\n",
            "60000/60000 [==============================] - 4s 66us/sample - loss: 0.1970 - acc: 0.9259\n",
            "Epoch 10/50\n",
            "60000/60000 [==============================] - 4s 66us/sample - loss: 0.1915 - acc: 0.9266\n",
            "Epoch 11/50\n",
            "60000/60000 [==============================] - 4s 67us/sample - loss: 0.1874 - acc: 0.9297\n",
            "Epoch 12/50\n",
            "60000/60000 [==============================] - 4s 67us/sample - loss: 0.1811 - acc: 0.9317\n",
            "Epoch 13/50\n",
            "60000/60000 [==============================] - 4s 66us/sample - loss: 0.1776 - acc: 0.9328\n",
            "Epoch 14/50\n",
            "60000/60000 [==============================] - 4s 67us/sample - loss: 0.1725 - acc: 0.9342\n",
            "Epoch 15/50\n",
            "60000/60000 [==============================] - 4s 66us/sample - loss: 0.1699 - acc: 0.9365\n",
            "Epoch 16/50\n",
            "60000/60000 [==============================] - 4s 66us/sample - loss: 0.1651 - acc: 0.9382\n",
            "Epoch 17/50\n",
            "60000/60000 [==============================] - 4s 71us/sample - loss: 0.1582 - acc: 0.9404\n",
            "Epoch 18/50\n",
            "60000/60000 [==============================] - 4s 71us/sample - loss: 0.1578 - acc: 0.9403\n",
            "Epoch 19/50\n",
            "60000/60000 [==============================] - 4s 69us/sample - loss: 0.1540 - acc: 0.9426\n",
            "Epoch 20/50\n",
            "60000/60000 [==============================] - 4s 71us/sample - loss: 0.1504 - acc: 0.9426\n",
            "Epoch 21/50\n",
            "60000/60000 [==============================] - 4s 71us/sample - loss: 0.1469 - acc: 0.9453\n",
            "Epoch 22/50\n",
            "60000/60000 [==============================] - 5s 78us/sample - loss: 0.1453 - acc: 0.9451\n",
            "Epoch 23/50\n",
            "60000/60000 [==============================] - 4s 72us/sample - loss: 0.1409 - acc: 0.9465\n",
            "Epoch 24/50\n",
            "60000/60000 [==============================] - 4s 70us/sample - loss: 0.1379 - acc: 0.9483\n",
            "Epoch 25/50\n",
            "60000/60000 [==============================] - 4s 69us/sample - loss: 0.1349 - acc: 0.9498\n",
            "Epoch 26/50\n",
            "60000/60000 [==============================] - 4s 69us/sample - loss: 0.1335 - acc: 0.9501\n",
            "Epoch 27/50\n",
            "60000/60000 [==============================] - 4s 69us/sample - loss: 0.1299 - acc: 0.9508\n",
            "Epoch 28/50\n",
            "60000/60000 [==============================] - 4s 69us/sample - loss: 0.1265 - acc: 0.9527\n",
            "Epoch 29/50\n",
            "60000/60000 [==============================] - 4s 65us/sample - loss: 0.1258 - acc: 0.9522\n",
            "Epoch 30/50\n",
            "60000/60000 [==============================] - 4s 66us/sample - loss: 0.1221 - acc: 0.9539\n",
            "Epoch 31/50\n",
            "60000/60000 [==============================] - 4s 65us/sample - loss: 0.1178 - acc: 0.9564\n",
            "Epoch 32/50\n",
            "60000/60000 [==============================] - 4s 66us/sample - loss: 0.1156 - acc: 0.9570\n",
            "Epoch 33/50\n",
            "60000/60000 [==============================] - 4s 65us/sample - loss: 0.1160 - acc: 0.9567\n",
            "Epoch 34/50\n",
            "60000/60000 [==============================] - 4s 66us/sample - loss: 0.1152 - acc: 0.9565\n",
            "Epoch 35/50\n",
            "60000/60000 [==============================] - 4s 66us/sample - loss: 0.1100 - acc: 0.9589\n",
            "Epoch 36/50\n",
            "60000/60000 [==============================] - 4s 67us/sample - loss: 0.1103 - acc: 0.9588\n",
            "Epoch 37/50\n",
            "60000/60000 [==============================] - 4s 65us/sample - loss: 0.1080 - acc: 0.9595\n",
            "Epoch 38/50\n",
            "60000/60000 [==============================] - 4s 67us/sample - loss: 0.1049 - acc: 0.9610\n",
            "Epoch 39/50\n",
            "60000/60000 [==============================] - 4s 66us/sample - loss: 0.1015 - acc: 0.9618\n",
            "Epoch 40/50\n",
            "60000/60000 [==============================] - 4s 66us/sample - loss: 0.1021 - acc: 0.9619\n",
            "Epoch 41/50\n",
            "60000/60000 [==============================] - 4s 67us/sample - loss: 0.1001 - acc: 0.9623\n",
            "Epoch 42/50\n",
            "60000/60000 [==============================] - 4s 66us/sample - loss: 0.1002 - acc: 0.9626\n",
            "Epoch 43/50\n",
            "60000/60000 [==============================] - 4s 66us/sample - loss: 0.0993 - acc: 0.9625\n",
            "Epoch 44/50\n",
            "60000/60000 [==============================] - 4s 67us/sample - loss: 0.0954 - acc: 0.9636\n",
            "Epoch 45/50\n",
            "60000/60000 [==============================] - 4s 67us/sample - loss: 0.0932 - acc: 0.9654\n",
            "Epoch 46/50\n",
            "60000/60000 [==============================] - 4s 66us/sample - loss: 0.0926 - acc: 0.9652\n",
            "Epoch 47/50\n",
            "60000/60000 [==============================] - 4s 65us/sample - loss: 0.0921 - acc: 0.9651\n",
            "Epoch 48/50\n",
            "60000/60000 [==============================] - 4s 66us/sample - loss: 0.0870 - acc: 0.9678\n",
            "Epoch 49/50\n",
            "60000/60000 [==============================] - 4s 67us/sample - loss: 0.0871 - acc: 0.9667\n",
            "Epoch 50/50\n",
            "60000/60000 [==============================] - 5s 76us/sample - loss: 0.0868 - acc: 0.9681\n"
          ],
          "name": "stdout"
        },
        {
          "output_type": "execute_result",
          "data": {
            "text/plain": [
              "<tensorflow.python.keras.callbacks.History at 0x7ff34c03e5f8>"
            ]
          },
          "metadata": {
            "tags": []
          },
          "execution_count": 13
        }
      ]
    },
    {
      "cell_type": "code",
      "metadata": {
        "id": "VUDezJn6rG4H",
        "colab_type": "code",
        "colab": {
          "base_uri": "https://localhost:8080/",
          "height": 51
        },
        "outputId": "8a4aa6ec-a2dc-49c7-d8fa-ed9ae11c351d"
      },
      "source": [
        "model.evaluate(test_images, test_labels)"
      ],
      "execution_count": 14,
      "outputs": [
        {
          "output_type": "stream",
          "text": [
            "10000/10000 [==============================] - 0s 37us/sample - loss: 0.5574 - acc: 0.8859\n"
          ],
          "name": "stdout"
        },
        {
          "output_type": "execute_result",
          "data": {
            "text/plain": [
              "[0.557443649534136, 0.8859]"
            ]
          },
          "metadata": {
            "tags": []
          },
          "execution_count": 14
        }
      ]
    },
    {
      "cell_type": "code",
      "metadata": {
        "id": "x7xzh-YfsfFF",
        "colab_type": "code",
        "colab": {}
      },
      "source": [
        ""
      ],
      "execution_count": 0,
      "outputs": []
    }
  ]
}