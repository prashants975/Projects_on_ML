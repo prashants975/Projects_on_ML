{
  "nbformat": 4,
  "nbformat_minor": 0,
  "metadata": {
    "colab": {
      "name": "Cars.ipynb",
      "version": "0.3.2",
      "provenance": [],
      "collapsed_sections": [],
      "include_colab_link": true
    },
    "kernelspec": {
      "name": "python3",
      "display_name": "Python 3"
    }
  },
  "cells": [
    {
      "cell_type": "markdown",
      "metadata": {
        "id": "view-in-github",
        "colab_type": "text"
      },
      "source": [
        "<a href=\"https://colab.research.google.com/github/prashants975/Projects_on_ML/blob/master/Cars.ipynb\" target=\"_parent\"><img src=\"https://colab.research.google.com/assets/colab-badge.svg\" alt=\"Open In Colab\"/></a>"
      ]
    },
    {
      "cell_type": "code",
      "metadata": {
        "id": "w53EQi6QTCsB",
        "colab_type": "code",
        "colab": {}
      },
      "source": [
        "import pandas as pd\n",
        "import numpy as np\n",
        "import matplotlib.pyplot as plt\n",
        "import tensorflow as tf\n",
        "import seaborn as sns "
      ],
      "execution_count": 0,
      "outputs": []
    },
    {
      "cell_type": "code",
      "metadata": {
        "id": "RgherRZhUGxS",
        "colab_type": "code",
        "colab": {}
      },
      "source": [
        "url = 'https://raw.githubusercontent.com/buildforbharat/datasets/master/cars.csv'"
      ],
      "execution_count": 0,
      "outputs": []
    },
    {
      "cell_type": "code",
      "metadata": {
        "id": "FMcHeRBQTb7H",
        "colab_type": "code",
        "colab": {}
      },
      "source": [
        "cars = pd.read_csv( url)"
      ],
      "execution_count": 0,
      "outputs": []
    },
    {
      "cell_type": "code",
      "metadata": {
        "id": "hzr-6l6oUywv",
        "colab_type": "code",
        "colab": {
          "base_uri": "https://localhost:8080/",
          "height": 204
        },
        "outputId": "bdcd4a3d-dc87-4cf4-ebd9-9a000ce6e2cc"
      },
      "source": [
        "cars.head()"
      ],
      "execution_count": 4,
      "outputs": [
        {
          "output_type": "execute_result",
          "data": {
            "text/html": [
              "<div>\n",
              "<style scoped>\n",
              "    .dataframe tbody tr th:only-of-type {\n",
              "        vertical-align: middle;\n",
              "    }\n",
              "\n",
              "    .dataframe tbody tr th {\n",
              "        vertical-align: top;\n",
              "    }\n",
              "\n",
              "    .dataframe thead th {\n",
              "        text-align: right;\n",
              "    }\n",
              "</style>\n",
              "<table border=\"1\" class=\"dataframe\">\n",
              "  <thead>\n",
              "    <tr style=\"text-align: right;\">\n",
              "      <th></th>\n",
              "      <th>Price</th>\n",
              "      <th>Mileage</th>\n",
              "      <th>Make</th>\n",
              "      <th>Model</th>\n",
              "      <th>Trim</th>\n",
              "      <th>Type</th>\n",
              "      <th>Cylinder</th>\n",
              "      <th>Liter</th>\n",
              "      <th>Doors</th>\n",
              "      <th>Cruise</th>\n",
              "      <th>Sound</th>\n",
              "      <th>Leather</th>\n",
              "    </tr>\n",
              "  </thead>\n",
              "  <tbody>\n",
              "    <tr>\n",
              "      <th>0</th>\n",
              "      <td>17314.10313</td>\n",
              "      <td>8221</td>\n",
              "      <td>Buick</td>\n",
              "      <td>Century</td>\n",
              "      <td>Sedan 4D</td>\n",
              "      <td>Sedan</td>\n",
              "      <td>6</td>\n",
              "      <td>3.1</td>\n",
              "      <td>4</td>\n",
              "      <td>1</td>\n",
              "      <td>1</td>\n",
              "      <td>1</td>\n",
              "    </tr>\n",
              "    <tr>\n",
              "      <th>1</th>\n",
              "      <td>17542.03608</td>\n",
              "      <td>9135</td>\n",
              "      <td>Buick</td>\n",
              "      <td>Century</td>\n",
              "      <td>Sedan 4D</td>\n",
              "      <td>Sedan</td>\n",
              "      <td>6</td>\n",
              "      <td>3.1</td>\n",
              "      <td>4</td>\n",
              "      <td>1</td>\n",
              "      <td>1</td>\n",
              "      <td>0</td>\n",
              "    </tr>\n",
              "    <tr>\n",
              "      <th>2</th>\n",
              "      <td>16218.84786</td>\n",
              "      <td>13196</td>\n",
              "      <td>Buick</td>\n",
              "      <td>Century</td>\n",
              "      <td>Sedan 4D</td>\n",
              "      <td>Sedan</td>\n",
              "      <td>6</td>\n",
              "      <td>3.1</td>\n",
              "      <td>4</td>\n",
              "      <td>1</td>\n",
              "      <td>1</td>\n",
              "      <td>0</td>\n",
              "    </tr>\n",
              "    <tr>\n",
              "      <th>3</th>\n",
              "      <td>16336.91314</td>\n",
              "      <td>16342</td>\n",
              "      <td>Buick</td>\n",
              "      <td>Century</td>\n",
              "      <td>Sedan 4D</td>\n",
              "      <td>Sedan</td>\n",
              "      <td>6</td>\n",
              "      <td>3.1</td>\n",
              "      <td>4</td>\n",
              "      <td>1</td>\n",
              "      <td>0</td>\n",
              "      <td>0</td>\n",
              "    </tr>\n",
              "    <tr>\n",
              "      <th>4</th>\n",
              "      <td>16339.17032</td>\n",
              "      <td>19832</td>\n",
              "      <td>Buick</td>\n",
              "      <td>Century</td>\n",
              "      <td>Sedan 4D</td>\n",
              "      <td>Sedan</td>\n",
              "      <td>6</td>\n",
              "      <td>3.1</td>\n",
              "      <td>4</td>\n",
              "      <td>1</td>\n",
              "      <td>0</td>\n",
              "      <td>1</td>\n",
              "    </tr>\n",
              "  </tbody>\n",
              "</table>\n",
              "</div>"
            ],
            "text/plain": [
              "         Price  Mileage   Make    Model  ... Doors Cruise  Sound  Leather\n",
              "0  17314.10313     8221  Buick  Century  ...     4      1      1        1\n",
              "1  17542.03608     9135  Buick  Century  ...     4      1      1        0\n",
              "2  16218.84786    13196  Buick  Century  ...     4      1      1        0\n",
              "3  16336.91314    16342  Buick  Century  ...     4      1      0        0\n",
              "4  16339.17032    19832  Buick  Century  ...     4      1      0        1\n",
              "\n",
              "[5 rows x 12 columns]"
            ]
          },
          "metadata": {
            "tags": []
          },
          "execution_count": 4
        }
      ]
    },
    {
      "cell_type": "code",
      "metadata": {
        "id": "c2w_X7e_TjY3",
        "colab_type": "code",
        "colab": {
          "base_uri": "https://localhost:8080/",
          "height": 306
        },
        "outputId": "fc833d9a-1aa7-45be-9bc4-895d07960e43"
      },
      "source": [
        "cars.info()"
      ],
      "execution_count": 5,
      "outputs": [
        {
          "output_type": "stream",
          "text": [
            "<class 'pandas.core.frame.DataFrame'>\n",
            "RangeIndex: 804 entries, 0 to 803\n",
            "Data columns (total 12 columns):\n",
            "Price       804 non-null float64\n",
            "Mileage     804 non-null int64\n",
            "Make        804 non-null object\n",
            "Model       804 non-null object\n",
            "Trim        804 non-null object\n",
            "Type        804 non-null object\n",
            "Cylinder    804 non-null int64\n",
            "Liter       804 non-null float64\n",
            "Doors       804 non-null int64\n",
            "Cruise      804 non-null int64\n",
            "Sound       804 non-null int64\n",
            "Leather     804 non-null int64\n",
            "dtypes: float64(2), int64(6), object(4)\n",
            "memory usage: 75.5+ KB\n"
          ],
          "name": "stdout"
        }
      ]
    },
    {
      "cell_type": "code",
      "metadata": {
        "id": "8kFxsQJll-bS",
        "colab_type": "code",
        "colab": {
          "base_uri": "https://localhost:8080/",
          "height": 297
        },
        "outputId": "aa9280ac-d96f-4566-c8d4-a2f22cf7f628"
      },
      "source": [
        "cars.describe()"
      ],
      "execution_count": 6,
      "outputs": [
        {
          "output_type": "execute_result",
          "data": {
            "text/html": [
              "<div>\n",
              "<style scoped>\n",
              "    .dataframe tbody tr th:only-of-type {\n",
              "        vertical-align: middle;\n",
              "    }\n",
              "\n",
              "    .dataframe tbody tr th {\n",
              "        vertical-align: top;\n",
              "    }\n",
              "\n",
              "    .dataframe thead th {\n",
              "        text-align: right;\n",
              "    }\n",
              "</style>\n",
              "<table border=\"1\" class=\"dataframe\">\n",
              "  <thead>\n",
              "    <tr style=\"text-align: right;\">\n",
              "      <th></th>\n",
              "      <th>Price</th>\n",
              "      <th>Mileage</th>\n",
              "      <th>Cylinder</th>\n",
              "      <th>Liter</th>\n",
              "      <th>Doors</th>\n",
              "      <th>Cruise</th>\n",
              "      <th>Sound</th>\n",
              "      <th>Leather</th>\n",
              "    </tr>\n",
              "  </thead>\n",
              "  <tbody>\n",
              "    <tr>\n",
              "      <th>count</th>\n",
              "      <td>804.000000</td>\n",
              "      <td>804.000000</td>\n",
              "      <td>804.000000</td>\n",
              "      <td>804.000000</td>\n",
              "      <td>804.000000</td>\n",
              "      <td>804.000000</td>\n",
              "      <td>804.000000</td>\n",
              "      <td>804.000000</td>\n",
              "    </tr>\n",
              "    <tr>\n",
              "      <th>mean</th>\n",
              "      <td>21343.143767</td>\n",
              "      <td>19831.934080</td>\n",
              "      <td>5.268657</td>\n",
              "      <td>3.037313</td>\n",
              "      <td>3.527363</td>\n",
              "      <td>0.752488</td>\n",
              "      <td>0.679104</td>\n",
              "      <td>0.723881</td>\n",
              "    </tr>\n",
              "    <tr>\n",
              "      <th>std</th>\n",
              "      <td>9884.852801</td>\n",
              "      <td>8196.319707</td>\n",
              "      <td>1.387531</td>\n",
              "      <td>1.105562</td>\n",
              "      <td>0.850169</td>\n",
              "      <td>0.431836</td>\n",
              "      <td>0.467111</td>\n",
              "      <td>0.447355</td>\n",
              "    </tr>\n",
              "    <tr>\n",
              "      <th>min</th>\n",
              "      <td>8638.930895</td>\n",
              "      <td>266.000000</td>\n",
              "      <td>4.000000</td>\n",
              "      <td>1.600000</td>\n",
              "      <td>2.000000</td>\n",
              "      <td>0.000000</td>\n",
              "      <td>0.000000</td>\n",
              "      <td>0.000000</td>\n",
              "    </tr>\n",
              "    <tr>\n",
              "      <th>25%</th>\n",
              "      <td>14273.073875</td>\n",
              "      <td>14623.500000</td>\n",
              "      <td>4.000000</td>\n",
              "      <td>2.200000</td>\n",
              "      <td>4.000000</td>\n",
              "      <td>1.000000</td>\n",
              "      <td>0.000000</td>\n",
              "      <td>0.000000</td>\n",
              "    </tr>\n",
              "    <tr>\n",
              "      <th>50%</th>\n",
              "      <td>18024.995020</td>\n",
              "      <td>20913.500000</td>\n",
              "      <td>6.000000</td>\n",
              "      <td>2.800000</td>\n",
              "      <td>4.000000</td>\n",
              "      <td>1.000000</td>\n",
              "      <td>1.000000</td>\n",
              "      <td>1.000000</td>\n",
              "    </tr>\n",
              "    <tr>\n",
              "      <th>75%</th>\n",
              "      <td>26717.316635</td>\n",
              "      <td>25213.000000</td>\n",
              "      <td>6.000000</td>\n",
              "      <td>3.800000</td>\n",
              "      <td>4.000000</td>\n",
              "      <td>1.000000</td>\n",
              "      <td>1.000000</td>\n",
              "      <td>1.000000</td>\n",
              "    </tr>\n",
              "    <tr>\n",
              "      <th>max</th>\n",
              "      <td>70755.466720</td>\n",
              "      <td>50387.000000</td>\n",
              "      <td>8.000000</td>\n",
              "      <td>6.000000</td>\n",
              "      <td>4.000000</td>\n",
              "      <td>1.000000</td>\n",
              "      <td>1.000000</td>\n",
              "      <td>1.000000</td>\n",
              "    </tr>\n",
              "  </tbody>\n",
              "</table>\n",
              "</div>"
            ],
            "text/plain": [
              "              Price       Mileage  ...       Sound     Leather\n",
              "count    804.000000    804.000000  ...  804.000000  804.000000\n",
              "mean   21343.143767  19831.934080  ...    0.679104    0.723881\n",
              "std     9884.852801   8196.319707  ...    0.467111    0.447355\n",
              "min     8638.930895    266.000000  ...    0.000000    0.000000\n",
              "25%    14273.073875  14623.500000  ...    0.000000    0.000000\n",
              "50%    18024.995020  20913.500000  ...    1.000000    1.000000\n",
              "75%    26717.316635  25213.000000  ...    1.000000    1.000000\n",
              "max    70755.466720  50387.000000  ...    1.000000    1.000000\n",
              "\n",
              "[8 rows x 8 columns]"
            ]
          },
          "metadata": {
            "tags": []
          },
          "execution_count": 6
        }
      ]
    },
    {
      "cell_type": "markdown",
      "metadata": {
        "id": "WdColazwpwhs",
        "colab_type": "text"
      },
      "source": [
        "```\n",
        "Questions to Answer\n",
        "1. Create a logistic regression model. Create your own loss function for this. Which optimizer is the best fit for this loss function ?\n",
        "2. Create a gradient boosted trees model . Create your own loss function for this. Which optimizer is the best fit for this loss function ?\n",
        "3. Create random forest model.\n",
        "4. write a note - which one is performing best ? why ?\n",
        "```"
      ]
    },
    {
      "cell_type": "markdown",
      "metadata": {
        "id": "61Vz1tUUua6h",
        "colab_type": "text"
      },
      "source": [
        "## Visulization\n",
        "Lets First visulize the data"
      ]
    },
    {
      "cell_type": "code",
      "metadata": {
        "id": "hv6VKE3YmFnf",
        "colab_type": "code",
        "colab": {
          "base_uri": "https://localhost:8080/",
          "height": 516
        },
        "outputId": "34b90d07-9cc1-4096-b69d-65f1db805c80"
      },
      "source": [
        "from pandas.plotting import scatter_matrix \n",
        "scatter_matrix(cars, figsize=(10,8));"
      ],
      "execution_count": 7,
      "outputs": [
        {
          "output_type": "display_data",
          "data": {
            "image/png": "[encoded data removed]",
            "text/plain": [
              "<Figure size 720x576 with 64 Axes>"
            ]
          },
          "metadata": {
            "tags": []
          }
        }
      ]
    },
    {
      "cell_type": "code",
      "metadata": {
        "id": "Jkt8-_8t37LJ",
        "colab_type": "code",
        "colab": {
          "base_uri": "https://localhost:8080/",
          "height": 499
        },
        "outputId": "026e2739-fdc4-4cde-c7b9-b172cae9ce5f"
      },
      "source": [
        "cars.hist(figsize = (10,8));"
      ],
      "execution_count": 8,
      "outputs": [
        {
          "output_type": "display_data",
          "data": {
            "image/png": "[encoded data removed]",
            "text/plain": [
              "<Figure size 720x576 with 9 Axes>"
            ]
          },
          "metadata": {
            "tags": []
          }
        }
      ]
    },
    {
      "cell_type": "code",
      "metadata": {
        "id": "7yvA_Wj5u6dv",
        "colab_type": "code",
        "colab": {
          "base_uri": "https://localhost:8080/",
          "height": 300
        },
        "outputId": "a1126575-7364-44b6-e9a8-dd6145c6ba7c"
      },
      "source": [
        "cars.plot(x = 'Mileage', y = 'Price', kind = 'scatter')"
      ],
      "execution_count": 9,
      "outputs": [
        {
          "output_type": "execute_result",
          "data": {
            "text/plain": [
              "<matplotlib.axes._subplots.AxesSubplot at 0x7fd29f449be0>"
            ]
          },
          "metadata": {
            "tags": []
          },
          "execution_count": 9
        },
        {
          "output_type": "display_data",
          "data": {
            "image/png": "[encoded data removed]",
            "text/plain": [
              "<Figure size 432x288 with 1 Axes>"
            ]
          },
          "metadata": {
            "tags": []
          }
        }
      ]
    },
    {
      "cell_type": "code",
      "metadata": {
        "id": "un7H7xrbyLl4",
        "colab_type": "code",
        "colab": {
          "base_uri": "https://localhost:8080/",
          "height": 238
        },
        "outputId": "3441416d-bb89-431d-ae0e-fad2782ce583"
      },
      "source": [
        "print(cars['Make'].value_counts())\n",
        "print(cars['Type'].value_counts())"
      ],
      "execution_count": 10,
      "outputs": [
        {
          "output_type": "stream",
          "text": [
            "Chevrolet    320\n",
            "Pontiac      150\n",
            "SAAB         114\n",
            "Buick         80\n",
            "Cadillac      80\n",
            "Saturn        60\n",
            "Name: Make, dtype: int64\n",
            "Sedan          490\n",
            "Coupe          140\n",
            "Wagon           64\n",
            "Hatchback       60\n",
            "Convertible     50\n",
            "Name: Type, dtype: int64\n"
          ],
          "name": "stdout"
        }
      ]
    },
    {
      "cell_type": "code",
      "metadata": {
        "id": "1gjsU5mTzeaC",
        "colab_type": "code",
        "colab": {
          "base_uri": "https://localhost:8080/",
          "height": 833
        },
        "outputId": "73e8c25d-bbbb-476d-e16e-3c4478d44bb4"
      },
      "source": [
        "print(cars['Trim'].value_counts())"
      ],
      "execution_count": 11,
      "outputs": [
        {
          "output_type": "stream",
          "text": [
            "Sedan 4D               170\n",
            "LS Sedan 4D             50\n",
            "Coupe 2D                50\n",
            "LT Sedan 4D             30\n",
            "LS Coupe 2D             30\n",
            "GT Sedan 4D             20\n",
            "Arc Sedan 4D            20\n",
            "Quad Coupe 2D           20\n",
            "SE Sedan 4D             20\n",
            "Aero Sedan 4D           20\n",
            "Linear Wagon 4D         14\n",
            "LS Hatchback 4D         10\n",
            "Aero Wagon 4D           10\n",
            "GT Coupe 2D             10\n",
            "MAXX Hback 4D           10\n",
            "LS MAXX Hback 4D        10\n",
            "Special Ed Ultra 4D     10\n",
            "LS Sport Coupe 2D       10\n",
            "CXS Sedan 4D            10\n",
            "LT MAXX Hback 4D        10\n",
            "L300 Sedan 4D           10\n",
            "AWD Sportwagon 4D       10\n",
            "LT Hatchback 4D         10\n",
            "SVM Sedan 4D            10\n",
            "Custom Sedan 4D         10\n",
            "GTP Sedan 4D            10\n",
            "Sportwagon 4D           10\n",
            "Hardtop Conv 2D         10\n",
            "Linear Conv 2D          10\n",
            "DTS Sedan 4D            10\n",
            "LT Coupe 2D             10\n",
            "SVM Hatchback 4D        10\n",
            "SS Coupe 2D             10\n",
            "Arc Wagon 4D            10\n",
            "Aero Conv 2D            10\n",
            "Conv 2D                 10\n",
            "Linear Sedan 4D         10\n",
            "Arc Conv 2D             10\n",
            "GXP Sedan 4D            10\n",
            "SLE Sedan 4D            10\n",
            "DHS Sedan 4D            10\n",
            "CX Sedan 4D             10\n",
            "Limited Sedan 4D        10\n",
            "CXL Sedan 4D            10\n",
            "GT Sportwagon           10\n",
            "LS Sport Sedan 4D       10\n",
            "SS Sedan 4D             10\n",
            "Name: Trim, dtype: int64\n"
          ],
          "name": "stdout"
        }
      ]
    },
    {
      "cell_type": "code",
      "metadata": {
        "id": "pIRAnzkl6VY1",
        "colab_type": "code",
        "colab": {
          "base_uri": "https://localhost:8080/",
          "height": 578
        },
        "outputId": "764c92ed-a32c-4c71-9655-0a6674319314"
      },
      "source": [
        "print(cars['Model'].value_counts())"
      ],
      "execution_count": 12,
      "outputs": [
        {
          "output_type": "stream",
          "text": [
            "Malibu         60\n",
            "Cavalier       60\n",
            "AVEO           60\n",
            "Ion            50\n",
            "Cobalt         50\n",
            "9_3 HO         40\n",
            "Impala         30\n",
            "Monte Carlo    30\n",
            "Deville        30\n",
            "Bonneville     30\n",
            "Grand Prix     30\n",
            "Lacrosse       30\n",
            "Vibe           30\n",
            "9_5            30\n",
            "9_3            20\n",
            "Corvette       20\n",
            "Lesabre        20\n",
            "G6             20\n",
            "9_5 HO         20\n",
            "Park Avenue    20\n",
            "Grand Am       20\n",
            "Century        10\n",
            "CST-V          10\n",
            "GTO            10\n",
            "XLR-V8         10\n",
            "STS-V6         10\n",
            "CTS            10\n",
            "Sunfire        10\n",
            "Classic        10\n",
            "L Series       10\n",
            "STS-V8         10\n",
            "9-2X AWD        4\n",
            "Name: Model, dtype: int64\n"
          ],
          "name": "stdout"
        }
      ]
    },
    {
      "cell_type": "code",
      "metadata": {
        "id": "KICWgQ606etQ",
        "colab_type": "code",
        "colab": {}
      },
      "source": [
        "X = cars.drop(columns='Price')\n",
        "y = cars.loc[:,'Price']\n"
      ],
      "execution_count": 0,
      "outputs": []
    },
    {
      "cell_type": "code",
      "metadata": {
        "id": "5yjHO8oSfpN_",
        "colab_type": "code",
        "colab": {}
      },
      "source": [
        "num = ['Mileage',\t'Cylinder',\t'Liter',\t'Doors',\t'Cruise',\t'Sound',\t'Leather']\n",
        "cat = ['Make',\t'Model',\t'Trim',\t'Type']"
      ],
      "execution_count": 0,
      "outputs": []
    },
    {
      "cell_type": "code",
      "metadata": {
        "id": "wjGrS9zxTRtO",
        "colab_type": "code",
        "colab": {}
      },
      "source": [
        "from sklearn.pipeline import Pipeline\n",
        "from sklearn.preprocessing import StandardScaler\n",
        "from sklearn.preprocessing import OneHotEncoder\n",
        "num_pipeline = Pipeline([\n",
        "('std_scaler', StandardScaler()),\n",
        "])\n",
        "from sklearn.compose import ColumnTransformer\n",
        "full_pipeline = ColumnTransformer([\n",
        "(\"num\", num_pipeline, num),\n",
        "(\"cat\", OneHotEncoder(), cat),\n",
        "])\n",
        "X = full_pipeline.fit_transform(X).toarray()"
      ],
      "execution_count": 0,
      "outputs": []
    },
    {
      "cell_type": "code",
      "metadata": {
        "id": "h3TIZIYkfKO-",
        "colab_type": "code",
        "colab": {}
      },
      "source": [
        "from sklearn.model_selection import train_test_split\n",
        "X_train, X_test, y_train, y_test = train_test_split(X, y, test_size=0.2, random_state=30)"
      ],
      "execution_count": 0,
      "outputs": []
    },
    {
      "cell_type": "code",
      "metadata": {
        "id": "Gnypp3N0TDc4",
        "colab_type": "code",
        "colab": {}
      },
      "source": [
        ""
      ],
      "execution_count": 0,
      "outputs": []
    },
    {
      "cell_type": "code",
      "metadata": {
        "id": "uRZRNRqNgbAc",
        "colab_type": "code",
        "colab": {
          "base_uri": "https://localhost:8080/",
          "height": 136
        },
        "outputId": "f7057dea-34c8-4441-803d-186fc51d076c"
      },
      "source": [
        "from sklearn.ensemble import RandomForestRegressor\n",
        "rnd_clf = RandomForestRegressor(n_estimators=200, random_state=0, n_jobs=-1)\n",
        "rnd_clf.fit(X_train, y_train)"
      ],
      "execution_count": 28,
      "outputs": [
        {
          "output_type": "execute_result",
          "data": {
            "text/plain": [
              "RandomForestRegressor(bootstrap=True, criterion='mse', max_depth=None,\n",
              "                      max_features='auto', max_leaf_nodes=None,\n",
              "                      min_impurity_decrease=0.0, min_impurity_split=None,\n",
              "                      min_samples_leaf=1, min_samples_split=2,\n",
              "                      min_weight_fraction_leaf=0.0, n_estimators=200, n_jobs=-1,\n",
              "                      oob_score=False, random_state=0, verbose=0,\n",
              "                      warm_start=False)"
            ]
          },
          "metadata": {
            "tags": []
          },
          "execution_count": 28
        }
      ]
    },
    {
      "cell_type": "code",
      "metadata": {
        "id": "j7z-KL-5PlPX",
        "colab_type": "code",
        "colab": {
          "base_uri": "https://localhost:8080/",
          "height": 34
        },
        "outputId": "7031d5cb-cf8f-4960-8e79-f2ddb4c6b222"
      },
      "source": [
        "rnd_clf.score(X_test, y_test)"
      ],
      "execution_count": 29,
      "outputs": [
        {
          "output_type": "execute_result",
          "data": {
            "text/plain": [
              "0.990845992737655"
            ]
          },
          "metadata": {
            "tags": []
          },
          "execution_count": 29
        }
      ]
    },
    {
      "cell_type": "code",
      "metadata": {
        "id": "r1X353nGhBne",
        "colab_type": "code",
        "colab": {
          "base_uri": "https://localhost:8080/",
          "height": 170
        },
        "outputId": "6d3c182a-ba30-4f0a-f380-0f76a7f71a46"
      },
      "source": [
        "from sklearn.ensemble import GradientBoostingRegressor\n",
        "gbrt = GradientBoostingRegressor(random_state=0)\n",
        "gbrt.fit(X_train, y_train)"
      ],
      "execution_count": 37,
      "outputs": [
        {
          "output_type": "execute_result",
          "data": {
            "text/plain": [
              "GradientBoostingRegressor(alpha=0.9, criterion='friedman_mse', init=None,\n",
              "                          learning_rate=0.1, loss='ls', max_depth=3,\n",
              "                          max_features=None, max_leaf_nodes=None,\n",
              "                          min_impurity_decrease=0.0, min_impurity_split=None,\n",
              "                          min_samples_leaf=1, min_samples_split=2,\n",
              "                          min_weight_fraction_leaf=0.0, n_estimators=100,\n",
              "                          n_iter_no_change=None, presort='auto', random_state=0,\n",
              "                          subsample=1.0, tol=0.0001, validation_fraction=0.1,\n",
              "                          verbose=0, warm_start=False)"
            ]
          },
          "metadata": {
            "tags": []
          },
          "execution_count": 37
        }
      ]
    },
    {
      "cell_type": "code",
      "metadata": {
        "id": "qzfonOzuOvsk",
        "colab_type": "code",
        "colab": {
          "base_uri": "https://localhost:8080/",
          "height": 34
        },
        "outputId": "53fc73ab-e470-4fa8-a0c2-b696a69d45e9"
      },
      "source": [
        "gbrt.score(X_test, y_test)"
      ],
      "execution_count": 38,
      "outputs": [
        {
          "output_type": "execute_result",
          "data": {
            "text/plain": [
              "0.98766780026199"
            ]
          },
          "metadata": {
            "tags": []
          },
          "execution_count": 38
        }
      ]
    },
    {
      "cell_type": "code",
      "metadata": {
        "id": "mh0doOz3Nfsy",
        "colab_type": "code",
        "colab": {}
      },
      "source": [
        ""
      ],
      "execution_count": 0,
      "outputs": []
    },
    {
      "cell_type": "code",
      "metadata": {
        "id": "1KuZvmZAkBMu",
        "colab_type": "code",
        "colab": {}
      },
      "source": [
        ""
      ],
      "execution_count": 0,
      "outputs": []
    }
  ]
}